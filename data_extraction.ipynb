{
 "cells": [
  {
   "cell_type": "code",
   "execution_count": null,
   "id": "initial_id",
   "metadata": {
    "collapsed": true
   },
   "outputs": [],
   "source": [
    "import numpy as np\n",
    "import pandas as pd\n",
    "import matplotlib.pyplot as plt\n",
    "import seaborn as sns\n",
    "import sklearn\n",
    "\n",
    "# Let's first read the content of the uploaded file to understand its structure and the type of data it contains.\n",
    "file_path = '/content/CTU-IoT-Malware-Capture-60-1.labeled'\n",
    "\n",
    "# Reading the first few lines to inspect the file structure\n",
    "with open(file_path, 'r') as file:\n",
    "    first_lines = [next(file) for _ in range(5)]\n",
    "\n",
    "first_lines\n",
    "\n",
    "# Skipping the initial metadata lines, let's read further to find the structure of the actual data\n",
    "data_lines_sample = []\n",
    "with open(file_path, 'r') as file:\n",
    "    # Skip metadata lines\n",
    "    for _ in range(10):  # Assuming the first 10 lines are metadata, adjust if needed\n",
    "        next(file)\n",
    "    # Read next few lines for data structure\n",
    "    data_lines_sample = [next(file) for _ in range(5)]\n",
    "\n",
    "data_lines_sample\n",
    "\n",
    "import pandas as pd\n",
    "\n",
    "# Since the actual data starts after the metadata lines, which we identified to be at least up to line 10,\n",
    "# we will skip these initial lines when loading the file into a DataFrame.\n",
    "# Additionally, the file uses tab (\"\\t\") as a separator.\n",
    "\n",
    "# Columns names are not directly available from the file, so we'll define them based on the observed structure.\n",
    "# The exact names and number of fields may vary, so this is a best guess based on the sample lines provided.\n",
    "column_names = [\n",
    "    'timestamp', 'uid', 'src_ip', 'src_port', 'dst_ip', 'dst_port', 'proto', 'service',\n",
    "    'duration', 'src_bytes', 'dst_bytes', 'conn_state', 'local_orig', 'local_resp',\n",
    "    'missed_bytes', 'history', 'orig_pkts', 'orig_ip_bytes', 'resp_pkts', 'resp_ip_bytes', 'label'\n",
    "]\n",
    "\n",
    "# Loading the data into a DataFrame, skipping the initial metadata lines\n",
    "df = pd.read_csv(file_path, sep='\\t', header=None, names=column_names, skiprows=10)\n",
    "\n",
    "# Display the first few rows of the DataFrame to ensure it's loaded correctly\n",
    "df.head()\n",
    "\n",
    "# Select the columns 'Name' and 'Age'\n",
    "df = df[['src_ip', 'dst_ip','duration','src_bytes','dst_bytes','label']]\n",
    "\n",
    "# Create a CSV file\n",
    "df.to_csv('Malware_60-1.csv', index=False)\n"
   ]
  }
 ],
 "metadata": {
  "kernelspec": {
   "display_name": "Python 3",
   "language": "python",
   "name": "python3"
  },
  "language_info": {
   "codemirror_mode": {
    "name": "ipython",
    "version": 2
   },
   "file_extension": ".py",
   "mimetype": "text/x-python",
   "name": "python",
   "nbconvert_exporter": "python",
   "pygments_lexer": "ipython2",
   "version": "2.7.6"
  }
 },
 "nbformat": 4,
 "nbformat_minor": 5
}
